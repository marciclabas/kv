{
 "cells": [
  {
   "cell_type": "code",
   "execution_count": 1,
   "metadata": {},
   "outputs": [],
   "source": [
    "from typing import TypeVar, Generic, Callable\n",
    "from dataclasses import dataclass\n",
    "import asyncio\n",
    "import os\n",
    "from dotenv import load_dotenv\n",
    "from azure.cosmos.aio import CosmosClient\n",
    "from haskellian import either as E, Either, Left, Right\n",
    "from kv import KV, CosmosPartitionKV, CosmosContainerKV, InvalidData, CosmosKV\n",
    "\n",
    "load_dotenv()\n",
    "COSMOS = os.environ['COSMOS_CONN_STR']\n",
    "\n",
    "T = TypeVar('T')\n",
    "U = TypeVar('U')"
   ]
  },
  {
   "cell_type": "code",
   "execution_count": 6,
   "metadata": {},
   "outputs": [
    {
     "data": {
      "text/plain": [
       "CosmosContainerKV(endpoint=https://coremeta.documents.azure.com:443/, database=test, container=0)"
      ]
     },
     "execution_count": 6,
     "metadata": {},
     "output_type": "execute_result"
    }
   ],
   "source": [
    "KV.of(f'azure+cosmos://{COSMOS}?db=test&container=0&partition=hello')"
   ]
  }
 ],
 "metadata": {
  "kernelspec": {
   "display_name": ".venv",
   "language": "python",
   "name": "python3"
  },
  "language_info": {
   "codemirror_mode": {
    "name": "ipython",
    "version": 3
   },
   "file_extension": ".py",
   "mimetype": "text/x-python",
   "name": "python",
   "nbconvert_exporter": "python",
   "pygments_lexer": "ipython3",
   "version": "3.11.9"
  }
 },
 "nbformat": 4,
 "nbformat_minor": 2
}
