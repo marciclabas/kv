{
 "cells": [
  {
   "cell_type": "code",
   "execution_count": 12,
   "metadata": {},
   "outputs": [],
   "source": [
    "from azure.cosmos import PartitionKey\n",
    "from azure.cosmos.aio import CosmosClient\n",
    "import os\n",
    "from dotenv import load_dotenv\n",
    "from kv import KV\n",
    "\n",
    "load_dotenv()\n",
    "conn_str = os.environ['COSMOS_CONN_STR']"
   ]
  },
  {
   "cell_type": "code",
   "execution_count": 13,
   "metadata": {},
   "outputs": [],
   "source": [
    "client = CosmosClient.from_connection_string(conn_str)\n",
    "db = client.get_database_client('items')\n",
    "await db.create_container_if_not_exists(id='items', partition_key=PartitionKey(path='/id'))\n",
    "cont = db.get_container_client('items')"
   ]
  },
  {
   "cell_type": "code",
   "execution_count": 15,
   "metadata": {},
   "outputs": [
    {
     "data": {
      "text/plain": [
       "{'id': '1',\n",
       " 'name': 'test',\n",
       " 'value': 1,\n",
       " '_rid': 'PN9tAMvy5PIBAAAAAAAAAA==',\n",
       " '_self': 'dbs/PN9tAA==/colls/PN9tAMvy5PI=/docs/PN9tAMvy5PIBAAAAAAAAAA==/',\n",
       " '_etag': '\"f8048a7a-0000-0e00-0000-673a38a30000\"',\n",
       " '_attachments': 'attachments/',\n",
       " '_ts': 1731868835}"
      ]
     },
     "execution_count": 15,
     "metadata": {},
     "output_type": "execute_result"
    }
   ],
   "source": [
    "await cont.create_item({\n",
    "  'id': '1',\n",
    "  'name': 'test',\n",
    "  'value': 1\n",
    "})"
   ]
  },
  {
   "cell_type": "code",
   "execution_count": 25,
   "metadata": {},
   "outputs": [
    {
     "ename": "CosmosHttpResponseError",
     "evalue": "(BadRequest) Message: {\"errors\":[{\"severity\":\"Error\",\"location\":{\"start\":0,\"end\":6},\"code\":\"SC1001\",\"message\":\"Syntax error, incorrect syntax near 'UPDATE'.\"}]}\r\nActivityId: fa4a3b06-cdf3-4600-b2fb-c0ef06bc77f0, Microsoft.Azure.Documents.Common/2.14.0\nCode: BadRequest\nMessage: Message: {\"errors\":[{\"severity\":\"Error\",\"location\":{\"start\":0,\"end\":6},\"code\":\"SC1001\",\"message\":\"Syntax error, incorrect syntax near 'UPDATE'.\"}]}\r\nActivityId: fa4a3b06-cdf3-4600-b2fb-c0ef06bc77f0, Microsoft.Azure.Documents.Common/2.14.0",
     "output_type": "error",
     "traceback": [
      "\u001b[0;31m---------------------------------------------------------------------------\u001b[0m",
      "\u001b[0;31mCosmosHttpResponseError\u001b[0m                   Traceback (most recent call last)",
      "Cell \u001b[0;32mIn[25], line 2\u001b[0m\n\u001b[1;32m      1\u001b[0m query \u001b[38;5;241m=\u001b[39m \u001b[38;5;124m'\u001b[39m\u001b[38;5;124mUPDATE items SET items.value = 2 WHERE items.id = \u001b[39m\u001b[38;5;124m\"\u001b[39m\u001b[38;5;124m1\u001b[39m\u001b[38;5;124m\"\u001b[39m\u001b[38;5;124m'\u001b[39m\n\u001b[0;32m----> 2\u001b[0m [it \u001b[38;5;28;01masync\u001b[39;00m \u001b[38;5;28;01mfor\u001b[39;00m it \u001b[38;5;129;01min\u001b[39;00m cont\u001b[38;5;241m.\u001b[39mquery_items(query)]\n",
      "Cell \u001b[0;32mIn[25], line 2\u001b[0m, in \u001b[0;36m<listcomp>\u001b[0;34m(.0)\u001b[0m\n\u001b[1;32m      1\u001b[0m query \u001b[38;5;241m=\u001b[39m \u001b[38;5;124m'\u001b[39m\u001b[38;5;124mUPDATE items SET items.value = 2 WHERE items.id = \u001b[39m\u001b[38;5;124m\"\u001b[39m\u001b[38;5;124m1\u001b[39m\u001b[38;5;124m\"\u001b[39m\u001b[38;5;124m'\u001b[39m\n\u001b[0;32m----> 2\u001b[0m [it \u001b[38;5;28;01masync\u001b[39;00m \u001b[38;5;28;01mfor\u001b[39;00m it \u001b[38;5;129;01min\u001b[39;00m cont\u001b[38;5;241m.\u001b[39mquery_items(query)]\n",
      "File \u001b[0;32m~/github/kv/.venv/lib/python3.11/site-packages/azure/core/async_paging.py:142\u001b[0m, in \u001b[0;36mAsyncItemPaged.__anext__\u001b[0;34m(self)\u001b[0m\n\u001b[1;32m    140\u001b[0m \u001b[38;5;28;01mif\u001b[39;00m \u001b[38;5;28mself\u001b[39m\u001b[38;5;241m.\u001b[39m_page_iterator \u001b[38;5;129;01mis\u001b[39;00m \u001b[38;5;28;01mNone\u001b[39;00m:\n\u001b[1;32m    141\u001b[0m     \u001b[38;5;28mself\u001b[39m\u001b[38;5;241m.\u001b[39m_page_iterator \u001b[38;5;241m=\u001b[39m \u001b[38;5;28mself\u001b[39m\u001b[38;5;241m.\u001b[39mby_page()\n\u001b[0;32m--> 142\u001b[0m     \u001b[38;5;28;01mreturn\u001b[39;00m \u001b[38;5;28;01mawait\u001b[39;00m \u001b[38;5;28mself\u001b[39m\u001b[38;5;241m.\u001b[39m\u001b[38;5;21m__anext__\u001b[39m()\n\u001b[1;32m    143\u001b[0m \u001b[38;5;28;01mif\u001b[39;00m \u001b[38;5;28mself\u001b[39m\u001b[38;5;241m.\u001b[39m_page \u001b[38;5;129;01mis\u001b[39;00m \u001b[38;5;28;01mNone\u001b[39;00m:\n\u001b[1;32m    144\u001b[0m     \u001b[38;5;66;03m# Let it raise StopAsyncIteration\u001b[39;00m\n\u001b[1;32m    145\u001b[0m     \u001b[38;5;28mself\u001b[39m\u001b[38;5;241m.\u001b[39m_page \u001b[38;5;241m=\u001b[39m \u001b[38;5;28;01mawait\u001b[39;00m \u001b[38;5;28mself\u001b[39m\u001b[38;5;241m.\u001b[39m_page_iterator\u001b[38;5;241m.\u001b[39m\u001b[38;5;21m__anext__\u001b[39m()\n",
      "File \u001b[0;32m~/github/kv/.venv/lib/python3.11/site-packages/azure/core/async_paging.py:145\u001b[0m, in \u001b[0;36mAsyncItemPaged.__anext__\u001b[0;34m(self)\u001b[0m\n\u001b[1;32m    142\u001b[0m     \u001b[38;5;28;01mreturn\u001b[39;00m \u001b[38;5;28;01mawait\u001b[39;00m \u001b[38;5;28mself\u001b[39m\u001b[38;5;241m.\u001b[39m\u001b[38;5;21m__anext__\u001b[39m()\n\u001b[1;32m    143\u001b[0m \u001b[38;5;28;01mif\u001b[39;00m \u001b[38;5;28mself\u001b[39m\u001b[38;5;241m.\u001b[39m_page \u001b[38;5;129;01mis\u001b[39;00m \u001b[38;5;28;01mNone\u001b[39;00m:\n\u001b[1;32m    144\u001b[0m     \u001b[38;5;66;03m# Let it raise StopAsyncIteration\u001b[39;00m\n\u001b[0;32m--> 145\u001b[0m     \u001b[38;5;28mself\u001b[39m\u001b[38;5;241m.\u001b[39m_page \u001b[38;5;241m=\u001b[39m \u001b[38;5;28;01mawait\u001b[39;00m \u001b[38;5;28mself\u001b[39m\u001b[38;5;241m.\u001b[39m_page_iterator\u001b[38;5;241m.\u001b[39m\u001b[38;5;21m__anext__\u001b[39m()\n\u001b[1;32m    146\u001b[0m     \u001b[38;5;28;01mreturn\u001b[39;00m \u001b[38;5;28;01mawait\u001b[39;00m \u001b[38;5;28mself\u001b[39m\u001b[38;5;241m.\u001b[39m\u001b[38;5;21m__anext__\u001b[39m()\n\u001b[1;32m    147\u001b[0m \u001b[38;5;28;01mtry\u001b[39;00m:\n",
      "File \u001b[0;32m~/github/kv/.venv/lib/python3.11/site-packages/azure/core/async_paging.py:94\u001b[0m, in \u001b[0;36mAsyncPageIterator.__anext__\u001b[0;34m(self)\u001b[0m\n\u001b[1;32m     92\u001b[0m     \u001b[38;5;28;01mraise\u001b[39;00m \u001b[38;5;167;01mStopAsyncIteration\u001b[39;00m(\u001b[38;5;124m\"\u001b[39m\u001b[38;5;124mEnd of paging\u001b[39m\u001b[38;5;124m\"\u001b[39m)\n\u001b[1;32m     93\u001b[0m \u001b[38;5;28;01mtry\u001b[39;00m:\n\u001b[0;32m---> 94\u001b[0m     \u001b[38;5;28mself\u001b[39m\u001b[38;5;241m.\u001b[39m_response \u001b[38;5;241m=\u001b[39m \u001b[38;5;28;01mawait\u001b[39;00m \u001b[38;5;28mself\u001b[39m\u001b[38;5;241m.\u001b[39m_get_next(\u001b[38;5;28mself\u001b[39m\u001b[38;5;241m.\u001b[39mcontinuation_token)\n\u001b[1;32m     95\u001b[0m \u001b[38;5;28;01mexcept\u001b[39;00m AzureError \u001b[38;5;28;01mas\u001b[39;00m error:\n\u001b[1;32m     96\u001b[0m     \u001b[38;5;28;01mif\u001b[39;00m \u001b[38;5;129;01mnot\u001b[39;00m error\u001b[38;5;241m.\u001b[39mcontinuation_token:\n",
      "File \u001b[0;32m~/github/kv/.venv/lib/python3.11/site-packages/azure/cosmos/aio/_query_iterable_async.py:103\u001b[0m, in \u001b[0;36mQueryIterable._fetch_next\u001b[0;34m(self, *args)\u001b[0m\n\u001b[1;32m    101\u001b[0m \u001b[38;5;28;01mif\u001b[39;00m \u001b[38;5;124m'\u001b[39m\u001b[38;5;124mpartitionKey\u001b[39m\u001b[38;5;124m'\u001b[39m \u001b[38;5;129;01min\u001b[39;00m \u001b[38;5;28mself\u001b[39m\u001b[38;5;241m.\u001b[39m_options \u001b[38;5;129;01mand\u001b[39;00m asyncio\u001b[38;5;241m.\u001b[39miscoroutine(\u001b[38;5;28mself\u001b[39m\u001b[38;5;241m.\u001b[39m_options[\u001b[38;5;124m'\u001b[39m\u001b[38;5;124mpartitionKey\u001b[39m\u001b[38;5;124m'\u001b[39m]):\n\u001b[1;32m    102\u001b[0m     \u001b[38;5;28mself\u001b[39m\u001b[38;5;241m.\u001b[39m_options[\u001b[38;5;124m'\u001b[39m\u001b[38;5;124mpartitionKey\u001b[39m\u001b[38;5;124m'\u001b[39m] \u001b[38;5;241m=\u001b[39m \u001b[38;5;28;01mawait\u001b[39;00m \u001b[38;5;28mself\u001b[39m\u001b[38;5;241m.\u001b[39m_options[\u001b[38;5;124m'\u001b[39m\u001b[38;5;124mpartitionKey\u001b[39m\u001b[38;5;124m'\u001b[39m]\n\u001b[0;32m--> 103\u001b[0m block \u001b[38;5;241m=\u001b[39m \u001b[38;5;28;01mawait\u001b[39;00m \u001b[38;5;28mself\u001b[39m\u001b[38;5;241m.\u001b[39m_ex_context\u001b[38;5;241m.\u001b[39mfetch_next_block()\n\u001b[1;32m    104\u001b[0m \u001b[38;5;28;01mif\u001b[39;00m \u001b[38;5;129;01mnot\u001b[39;00m block:\n\u001b[1;32m    105\u001b[0m     \u001b[38;5;28;01mraise\u001b[39;00m \u001b[38;5;167;01mStopAsyncIteration\u001b[39;00m\n",
      "File \u001b[0;32m~/github/kv/.venv/lib/python3.11/site-packages/azure/cosmos/_execution_context/aio/execution_dispatcher.py:98\u001b[0m, in \u001b[0;36m_ProxyQueryExecutionContext.fetch_next_block\u001b[0;34m(self)\u001b[0m\n\u001b[1;32m     96\u001b[0m         \u001b[38;5;28mself\u001b[39m\u001b[38;5;241m.\u001b[39m_execution_context \u001b[38;5;241m=\u001b[39m \u001b[38;5;28;01mawait\u001b[39;00m \u001b[38;5;28mself\u001b[39m\u001b[38;5;241m.\u001b[39m_create_pipelined_execution_context(query_execution_info)\n\u001b[1;32m     97\u001b[0m     \u001b[38;5;28;01melse\u001b[39;00m:\n\u001b[0;32m---> 98\u001b[0m         \u001b[38;5;28;01mraise\u001b[39;00m e\n\u001b[1;32m    100\u001b[0m \u001b[38;5;28;01mreturn\u001b[39;00m \u001b[38;5;28;01mawait\u001b[39;00m \u001b[38;5;28mself\u001b[39m\u001b[38;5;241m.\u001b[39m_execution_context\u001b[38;5;241m.\u001b[39mfetch_next_block()\n",
      "File \u001b[0;32m~/github/kv/.venv/lib/python3.11/site-packages/azure/cosmos/_execution_context/aio/execution_dispatcher.py:90\u001b[0m, in \u001b[0;36m_ProxyQueryExecutionContext.fetch_next_block\u001b[0;34m(self)\u001b[0m\n\u001b[1;32m     81\u001b[0m \u001b[38;5;250m\u001b[39m\u001b[38;5;124;03m\"\"\"Returns a block of results.\u001b[39;00m\n\u001b[1;32m     82\u001b[0m \n\u001b[1;32m     83\u001b[0m \u001b[38;5;124;03mThis method only exists for backward compatibility reasons. (Because\u001b[39;00m\n\u001b[0;32m   (...)\u001b[0m\n\u001b[1;32m     87\u001b[0m \u001b[38;5;124;03m:rtype: list\u001b[39;00m\n\u001b[1;32m     88\u001b[0m \u001b[38;5;124;03m\"\"\"\u001b[39;00m\n\u001b[1;32m     89\u001b[0m \u001b[38;5;28;01mtry\u001b[39;00m:\n\u001b[0;32m---> 90\u001b[0m     \u001b[38;5;28;01mreturn\u001b[39;00m \u001b[38;5;28;01mawait\u001b[39;00m \u001b[38;5;28mself\u001b[39m\u001b[38;5;241m.\u001b[39m_execution_context\u001b[38;5;241m.\u001b[39mfetch_next_block()\n\u001b[1;32m     91\u001b[0m \u001b[38;5;28;01mexcept\u001b[39;00m CosmosHttpResponseError \u001b[38;5;28;01mas\u001b[39;00m e:\n\u001b[1;32m     92\u001b[0m     \u001b[38;5;28;01mif\u001b[39;00m _is_partitioned_execution_info(e): \u001b[38;5;66;03m#cross partition query not servable\u001b[39;00m\n",
      "File \u001b[0;32m~/github/kv/.venv/lib/python3.11/site-packages/azure/cosmos/_execution_context/aio/base_execution_context.py:81\u001b[0m, in \u001b[0;36m_QueryExecutionContextBase.fetch_next_block\u001b[0;34m(self)\u001b[0m\n\u001b[1;32m     72\u001b[0m \u001b[38;5;28;01masync\u001b[39;00m \u001b[38;5;28;01mdef\u001b[39;00m \u001b[38;5;21mfetch_next_block\u001b[39m(\u001b[38;5;28mself\u001b[39m):\n\u001b[1;32m     73\u001b[0m \u001b[38;5;250m    \u001b[39m\u001b[38;5;124;03m\"\"\"Returns a block of results with respecting retry policy.\u001b[39;00m\n\u001b[1;32m     74\u001b[0m \n\u001b[1;32m     75\u001b[0m \u001b[38;5;124;03m    This method only exists for backward compatibility reasons. (Because\u001b[39;00m\n\u001b[0;32m   (...)\u001b[0m\n\u001b[1;32m     79\u001b[0m \u001b[38;5;124;03m    :rtype: list\u001b[39;00m\n\u001b[1;32m     80\u001b[0m \u001b[38;5;124;03m    \"\"\"\u001b[39;00m\n\u001b[0;32m---> 81\u001b[0m     \u001b[38;5;28;01mawait\u001b[39;00m \u001b[38;5;28mself\u001b[39m\u001b[38;5;241m.\u001b[39m_ensure()\n\u001b[1;32m     82\u001b[0m     res \u001b[38;5;241m=\u001b[39m \u001b[38;5;28mlist\u001b[39m(\u001b[38;5;28mself\u001b[39m\u001b[38;5;241m.\u001b[39m_buffer)\n\u001b[1;32m     83\u001b[0m     \u001b[38;5;28mself\u001b[39m\u001b[38;5;241m.\u001b[39m_buffer\u001b[38;5;241m.\u001b[39mclear()\n",
      "File \u001b[0;32m~/github/kv/.venv/lib/python3.11/site-packages/azure/cosmos/_execution_context/aio/base_execution_context.py:66\u001b[0m, in \u001b[0;36m_QueryExecutionContextBase._ensure\u001b[0;34m(self)\u001b[0m\n\u001b[1;32m     63\u001b[0m     \u001b[38;5;28;01mreturn\u001b[39;00m\n\u001b[1;32m     65\u001b[0m \u001b[38;5;28;01mif\u001b[39;00m \u001b[38;5;129;01mnot\u001b[39;00m \u001b[38;5;28mself\u001b[39m\u001b[38;5;241m.\u001b[39m_buffer:\n\u001b[0;32m---> 66\u001b[0m     results \u001b[38;5;241m=\u001b[39m \u001b[38;5;28;01mawait\u001b[39;00m \u001b[38;5;28mself\u001b[39m\u001b[38;5;241m.\u001b[39m_fetch_next_block()\n\u001b[1;32m     67\u001b[0m     \u001b[38;5;28mself\u001b[39m\u001b[38;5;241m.\u001b[39m_buffer\u001b[38;5;241m.\u001b[39mextend(results)\n\u001b[1;32m     69\u001b[0m \u001b[38;5;28;01mif\u001b[39;00m \u001b[38;5;129;01mnot\u001b[39;00m \u001b[38;5;28mself\u001b[39m\u001b[38;5;241m.\u001b[39m_buffer:\n",
      "File \u001b[0;32m~/github/kv/.venv/lib/python3.11/site-packages/azure/cosmos/_execution_context/aio/base_execution_context.py:176\u001b[0m, in \u001b[0;36m_DefaultQueryExecutionContext._fetch_next_block\u001b[0;34m(self)\u001b[0m\n\u001b[1;32m    174\u001b[0m \u001b[38;5;28;01masync\u001b[39;00m \u001b[38;5;28;01mdef\u001b[39;00m \u001b[38;5;21m_fetch_next_block\u001b[39m(\u001b[38;5;28mself\u001b[39m):\n\u001b[1;32m    175\u001b[0m     \u001b[38;5;28;01mwhile\u001b[39;00m \u001b[38;5;28msuper\u001b[39m(_DefaultQueryExecutionContext, \u001b[38;5;28mself\u001b[39m)\u001b[38;5;241m.\u001b[39m_has_more_pages() \u001b[38;5;129;01mand\u001b[39;00m \u001b[38;5;129;01mnot\u001b[39;00m \u001b[38;5;28mself\u001b[39m\u001b[38;5;241m.\u001b[39m_buffer:\n\u001b[0;32m--> 176\u001b[0m         \u001b[38;5;28;01mreturn\u001b[39;00m \u001b[38;5;28;01mawait\u001b[39;00m \u001b[38;5;28mself\u001b[39m\u001b[38;5;241m.\u001b[39m_fetch_items_helper_with_retries(\u001b[38;5;28mself\u001b[39m\u001b[38;5;241m.\u001b[39m_fetch_function)\n",
      "File \u001b[0;32m~/github/kv/.venv/lib/python3.11/site-packages/azure/cosmos/_execution_context/aio/base_execution_context.py:150\u001b[0m, in \u001b[0;36m_QueryExecutionContextBase._fetch_items_helper_with_retries\u001b[0;34m(self, fetch_function)\u001b[0m\n\u001b[1;32m    147\u001b[0m \u001b[38;5;28;01masync\u001b[39;00m \u001b[38;5;28;01mdef\u001b[39;00m \u001b[38;5;21mcallback\u001b[39m():\n\u001b[1;32m    148\u001b[0m     \u001b[38;5;28;01mreturn\u001b[39;00m \u001b[38;5;28;01mawait\u001b[39;00m \u001b[38;5;28mself\u001b[39m\u001b[38;5;241m.\u001b[39m_fetch_items_helper_no_retries(fetch_function)\n\u001b[0;32m--> 150\u001b[0m \u001b[38;5;28;01mreturn\u001b[39;00m \u001b[38;5;28;01mawait\u001b[39;00m _retry_utility_async\u001b[38;5;241m.\u001b[39mExecuteAsync(\u001b[38;5;28mself\u001b[39m\u001b[38;5;241m.\u001b[39m_client, \u001b[38;5;28mself\u001b[39m\u001b[38;5;241m.\u001b[39m_client\u001b[38;5;241m.\u001b[39m_global_endpoint_manager, callback)\n",
      "File \u001b[0;32m~/github/kv/.venv/lib/python3.11/site-packages/azure/cosmos/aio/_retry_utility_async.py:85\u001b[0m, in \u001b[0;36mExecuteAsync\u001b[0;34m(client, global_endpoint_manager, function, *args, **kwargs)\u001b[0m\n\u001b[1;32m     83\u001b[0m     result \u001b[38;5;241m=\u001b[39m \u001b[38;5;28;01mawait\u001b[39;00m ExecuteFunctionAsync(function, global_endpoint_manager, \u001b[38;5;241m*\u001b[39margs, \u001b[38;5;241m*\u001b[39m\u001b[38;5;241m*\u001b[39mkwargs)\n\u001b[1;32m     84\u001b[0m \u001b[38;5;28;01melse\u001b[39;00m:\n\u001b[0;32m---> 85\u001b[0m     result \u001b[38;5;241m=\u001b[39m \u001b[38;5;28;01mawait\u001b[39;00m ExecuteFunctionAsync(function, \u001b[38;5;241m*\u001b[39margs, \u001b[38;5;241m*\u001b[39m\u001b[38;5;241m*\u001b[39mkwargs)\n\u001b[1;32m     86\u001b[0m \u001b[38;5;28;01mif\u001b[39;00m \u001b[38;5;129;01mnot\u001b[39;00m client\u001b[38;5;241m.\u001b[39mlast_response_headers:\n\u001b[1;32m     87\u001b[0m     client\u001b[38;5;241m.\u001b[39mlast_response_headers \u001b[38;5;241m=\u001b[39m {}\n",
      "File \u001b[0;32m~/github/kv/.venv/lib/python3.11/site-packages/azure/cosmos/aio/_retry_utility_async.py:148\u001b[0m, in \u001b[0;36mExecuteFunctionAsync\u001b[0;34m(function, *args, **kwargs)\u001b[0m\n\u001b[1;32m    141\u001b[0m \u001b[38;5;28;01masync\u001b[39;00m \u001b[38;5;28;01mdef\u001b[39;00m \u001b[38;5;21mExecuteFunctionAsync\u001b[39m(function, \u001b[38;5;241m*\u001b[39margs, \u001b[38;5;241m*\u001b[39m\u001b[38;5;241m*\u001b[39mkwargs):\n\u001b[1;32m    142\u001b[0m \u001b[38;5;250m    \u001b[39m\u001b[38;5;124;03m\"\"\"Stub method so that it can be used for mocking purposes as well.\u001b[39;00m\n\u001b[1;32m    143\u001b[0m \u001b[38;5;124;03m    :param Callable function: the function to execute.\u001b[39;00m\n\u001b[1;32m    144\u001b[0m \u001b[38;5;124;03m    :param list args: the explicit arguments for the function.\u001b[39;00m\n\u001b[1;32m    145\u001b[0m \u001b[38;5;124;03m    :returns: the result of executing the function with the passed in arguments\u001b[39;00m\n\u001b[1;32m    146\u001b[0m \u001b[38;5;124;03m    :rtype: tuple(dict, dict)\u001b[39;00m\n\u001b[1;32m    147\u001b[0m \u001b[38;5;124;03m    \"\"\"\u001b[39;00m\n\u001b[0;32m--> 148\u001b[0m     \u001b[38;5;28;01mreturn\u001b[39;00m \u001b[38;5;28;01mawait\u001b[39;00m function(\u001b[38;5;241m*\u001b[39margs, \u001b[38;5;241m*\u001b[39m\u001b[38;5;241m*\u001b[39mkwargs)\n",
      "File \u001b[0;32m~/github/kv/.venv/lib/python3.11/site-packages/azure/cosmos/_execution_context/aio/base_execution_context.py:148\u001b[0m, in \u001b[0;36m_QueryExecutionContextBase._fetch_items_helper_with_retries.<locals>.callback\u001b[0;34m()\u001b[0m\n\u001b[1;32m    147\u001b[0m \u001b[38;5;28;01masync\u001b[39;00m \u001b[38;5;28;01mdef\u001b[39;00m \u001b[38;5;21mcallback\u001b[39m():\n\u001b[0;32m--> 148\u001b[0m     \u001b[38;5;28;01mreturn\u001b[39;00m \u001b[38;5;28;01mawait\u001b[39;00m \u001b[38;5;28mself\u001b[39m\u001b[38;5;241m.\u001b[39m_fetch_items_helper_no_retries(fetch_function)\n",
      "File \u001b[0;32m~/github/kv/.venv/lib/python3.11/site-packages/azure/cosmos/_execution_context/aio/base_execution_context.py:127\u001b[0m, in \u001b[0;36m_QueryExecutionContextBase._fetch_items_helper_no_retries\u001b[0;34m(self, fetch_function)\u001b[0m\n\u001b[1;32m    124\u001b[0m new_options[\u001b[38;5;124m\"\u001b[39m\u001b[38;5;124mcontinuation\u001b[39m\u001b[38;5;124m\"\u001b[39m] \u001b[38;5;241m=\u001b[39m \u001b[38;5;28mself\u001b[39m\u001b[38;5;241m.\u001b[39m_continuation\n\u001b[1;32m    126\u001b[0m response_headers \u001b[38;5;241m=\u001b[39m {}\n\u001b[0;32m--> 127\u001b[0m (fetched_items, response_headers) \u001b[38;5;241m=\u001b[39m \u001b[38;5;28;01mawait\u001b[39;00m fetch_function(new_options)\n\u001b[1;32m    128\u001b[0m \u001b[38;5;28;01mif\u001b[39;00m \u001b[38;5;129;01mnot\u001b[39;00m \u001b[38;5;28mself\u001b[39m\u001b[38;5;241m.\u001b[39m_has_started:\n\u001b[1;32m    129\u001b[0m     \u001b[38;5;28mself\u001b[39m\u001b[38;5;241m.\u001b[39m_has_started \u001b[38;5;241m=\u001b[39m \u001b[38;5;28;01mTrue\u001b[39;00m\n",
      "File \u001b[0;32m~/github/kv/.venv/lib/python3.11/site-packages/azure/cosmos/aio/_cosmos_client_connection_async.py:2179\u001b[0m, in \u001b[0;36mCosmosClientConnection.QueryItems.<locals>.fetch_fn\u001b[0;34m(options)\u001b[0m\n\u001b[1;32m   2177\u001b[0m \u001b[38;5;28;01masync\u001b[39;00m \u001b[38;5;28;01mdef\u001b[39;00m \u001b[38;5;21mfetch_fn\u001b[39m(options: Mapping[\u001b[38;5;28mstr\u001b[39m, Any]) \u001b[38;5;241m-\u001b[39m\u001b[38;5;241m>\u001b[39m Tuple[List[Dict[\u001b[38;5;28mstr\u001b[39m, Any]], Dict[\u001b[38;5;28mstr\u001b[39m, Any]]:\n\u001b[1;32m   2178\u001b[0m     \u001b[38;5;28;01mreturn\u001b[39;00m (\n\u001b[0;32m-> 2179\u001b[0m         \u001b[38;5;28;01mawait\u001b[39;00m \u001b[38;5;28mself\u001b[39m\u001b[38;5;241m.\u001b[39m__QueryFeed(\n\u001b[1;32m   2180\u001b[0m             path,\n\u001b[1;32m   2181\u001b[0m             \u001b[38;5;124m\"\u001b[39m\u001b[38;5;124mdocs\u001b[39m\u001b[38;5;124m\"\u001b[39m,\n\u001b[1;32m   2182\u001b[0m             collection_id,\n\u001b[1;32m   2183\u001b[0m             \u001b[38;5;28;01mlambda\u001b[39;00m r: r[\u001b[38;5;124m\"\u001b[39m\u001b[38;5;124mDocuments\u001b[39m\u001b[38;5;124m\"\u001b[39m],\n\u001b[1;32m   2184\u001b[0m             \u001b[38;5;28;01mlambda\u001b[39;00m _, b: b,\n\u001b[1;32m   2185\u001b[0m             query,\n\u001b[1;32m   2186\u001b[0m             options,\n\u001b[1;32m   2187\u001b[0m             response_hook\u001b[38;5;241m=\u001b[39mresponse_hook,\n\u001b[1;32m   2188\u001b[0m             \u001b[38;5;241m*\u001b[39m\u001b[38;5;241m*\u001b[39mkwargs\n\u001b[1;32m   2189\u001b[0m         ),\n\u001b[1;32m   2190\u001b[0m         \u001b[38;5;28mself\u001b[39m\u001b[38;5;241m.\u001b[39mlast_response_headers,\n\u001b[1;32m   2191\u001b[0m     )\n",
      "File \u001b[0;32m~/github/kv/.venv/lib/python3.11/site-packages/azure/cosmos/aio/_cosmos_client_connection_async.py:2881\u001b[0m, in \u001b[0;36mCosmosClientConnection.__QueryFeed\u001b[0;34m(self, path, typ, id_, result_fn, create_fn, query, options, partition_key_range_id, response_hook, is_query_plan, **kwargs)\u001b[0m\n\u001b[1;32m   2878\u001b[0m     \u001b[38;5;28;01mif\u001b[39;00m results:\n\u001b[1;32m   2879\u001b[0m         \u001b[38;5;28;01mreturn\u001b[39;00m __GetBodiesFromQueryResult(results)\n\u001b[0;32m-> 2881\u001b[0m result, \u001b[38;5;28mself\u001b[39m\u001b[38;5;241m.\u001b[39mlast_response_headers \u001b[38;5;241m=\u001b[39m \u001b[38;5;28;01mawait\u001b[39;00m \u001b[38;5;28mself\u001b[39m\u001b[38;5;241m.\u001b[39m__Post(path, request_params, query, req_headers, \u001b[38;5;241m*\u001b[39m\u001b[38;5;241m*\u001b[39mkwargs)\n\u001b[1;32m   2882\u001b[0m \u001b[38;5;28;01mif\u001b[39;00m \u001b[38;5;28mself\u001b[39m\u001b[38;5;241m.\u001b[39mlast_response_headers\u001b[38;5;241m.\u001b[39mget(http_constants\u001b[38;5;241m.\u001b[39mHttpHeaders\u001b[38;5;241m.\u001b[39mIndexUtilization) \u001b[38;5;129;01mis\u001b[39;00m \u001b[38;5;129;01mnot\u001b[39;00m \u001b[38;5;28;01mNone\u001b[39;00m:\n\u001b[1;32m   2883\u001b[0m     INDEX_METRICS_HEADER \u001b[38;5;241m=\u001b[39m http_constants\u001b[38;5;241m.\u001b[39mHttpHeaders\u001b[38;5;241m.\u001b[39mIndexUtilization\n",
      "File \u001b[0;32m~/github/kv/.venv/lib/python3.11/site-packages/azure/cosmos/aio/_cosmos_client_connection_async.py:874\u001b[0m, in \u001b[0;36mCosmosClientConnection.__Post\u001b[0;34m(self, path, request_params, body, req_headers, **kwargs)\u001b[0m\n\u001b[1;32m    864\u001b[0m \u001b[38;5;250m\u001b[39m\u001b[38;5;124;03m\"\"\"Azure Cosmos 'POST' async http request.\u001b[39;00m\n\u001b[1;32m    865\u001b[0m \n\u001b[1;32m    866\u001b[0m \u001b[38;5;124;03m:param str path: the url to be used for the request.\u001b[39;00m\n\u001b[0;32m   (...)\u001b[0m\n\u001b[1;32m    871\u001b[0m \u001b[38;5;124;03m:rtype: tuple of (dict, dict)\u001b[39;00m\n\u001b[1;32m    872\u001b[0m \u001b[38;5;124;03m\"\"\"\u001b[39;00m\n\u001b[1;32m    873\u001b[0m request \u001b[38;5;241m=\u001b[39m \u001b[38;5;28mself\u001b[39m\u001b[38;5;241m.\u001b[39mpipeline_client\u001b[38;5;241m.\u001b[39mpost(url\u001b[38;5;241m=\u001b[39mpath, headers\u001b[38;5;241m=\u001b[39mreq_headers)\n\u001b[0;32m--> 874\u001b[0m \u001b[38;5;28;01mreturn\u001b[39;00m \u001b[38;5;28;01mawait\u001b[39;00m asynchronous_request\u001b[38;5;241m.\u001b[39mAsynchronousRequest(\n\u001b[1;32m    875\u001b[0m     client\u001b[38;5;241m=\u001b[39m\u001b[38;5;28mself\u001b[39m,\n\u001b[1;32m    876\u001b[0m     request_params\u001b[38;5;241m=\u001b[39mrequest_params,\n\u001b[1;32m    877\u001b[0m     global_endpoint_manager\u001b[38;5;241m=\u001b[39m\u001b[38;5;28mself\u001b[39m\u001b[38;5;241m.\u001b[39m_global_endpoint_manager,\n\u001b[1;32m    878\u001b[0m     connection_policy\u001b[38;5;241m=\u001b[39m\u001b[38;5;28mself\u001b[39m\u001b[38;5;241m.\u001b[39mconnection_policy,\n\u001b[1;32m    879\u001b[0m     pipeline_client\u001b[38;5;241m=\u001b[39m\u001b[38;5;28mself\u001b[39m\u001b[38;5;241m.\u001b[39mpipeline_client,\n\u001b[1;32m    880\u001b[0m     request\u001b[38;5;241m=\u001b[39mrequest,\n\u001b[1;32m    881\u001b[0m     request_data\u001b[38;5;241m=\u001b[39mbody,\n\u001b[1;32m    882\u001b[0m     \u001b[38;5;241m*\u001b[39m\u001b[38;5;241m*\u001b[39mkwargs\n\u001b[1;32m    883\u001b[0m )\n",
      "File \u001b[0;32m~/github/kv/.venv/lib/python3.11/site-packages/azure/cosmos/aio/_asynchronous_request.py:172\u001b[0m, in \u001b[0;36mAsynchronousRequest\u001b[0;34m(client, request_params, global_endpoint_manager, connection_policy, pipeline_client, request, request_data, **kwargs)\u001b[0m\n\u001b[1;32m    169\u001b[0m     request\u001b[38;5;241m.\u001b[39mheaders[http_constants\u001b[38;5;241m.\u001b[39mHttpHeaders\u001b[38;5;241m.\u001b[39mContentLength] \u001b[38;5;241m=\u001b[39m \u001b[38;5;241m0\u001b[39m\n\u001b[1;32m    171\u001b[0m \u001b[38;5;66;03m# Pass _Request function with its parameters to retry_utility's Execute method that wraps the call with retries\u001b[39;00m\n\u001b[0;32m--> 172\u001b[0m \u001b[38;5;28;01mreturn\u001b[39;00m \u001b[38;5;28;01mawait\u001b[39;00m _retry_utility_async\u001b[38;5;241m.\u001b[39mExecuteAsync(\n\u001b[1;32m    173\u001b[0m     client,\n\u001b[1;32m    174\u001b[0m     global_endpoint_manager,\n\u001b[1;32m    175\u001b[0m     _Request,\n\u001b[1;32m    176\u001b[0m     request_params,\n\u001b[1;32m    177\u001b[0m     connection_policy,\n\u001b[1;32m    178\u001b[0m     pipeline_client,\n\u001b[1;32m    179\u001b[0m     request,\n\u001b[1;32m    180\u001b[0m     \u001b[38;5;241m*\u001b[39m\u001b[38;5;241m*\u001b[39mkwargs\n\u001b[1;32m    181\u001b[0m )\n",
      "File \u001b[0;32m~/github/kv/.venv/lib/python3.11/site-packages/azure/cosmos/aio/_retry_utility_async.py:83\u001b[0m, in \u001b[0;36mExecuteAsync\u001b[0;34m(client, global_endpoint_manager, function, *args, **kwargs)\u001b[0m\n\u001b[1;32m     81\u001b[0m \u001b[38;5;28;01mtry\u001b[39;00m:\n\u001b[1;32m     82\u001b[0m     \u001b[38;5;28;01mif\u001b[39;00m args:\n\u001b[0;32m---> 83\u001b[0m         result \u001b[38;5;241m=\u001b[39m \u001b[38;5;28;01mawait\u001b[39;00m ExecuteFunctionAsync(function, global_endpoint_manager, \u001b[38;5;241m*\u001b[39margs, \u001b[38;5;241m*\u001b[39m\u001b[38;5;241m*\u001b[39mkwargs)\n\u001b[1;32m     84\u001b[0m     \u001b[38;5;28;01melse\u001b[39;00m:\n\u001b[1;32m     85\u001b[0m         result \u001b[38;5;241m=\u001b[39m \u001b[38;5;28;01mawait\u001b[39;00m ExecuteFunctionAsync(function, \u001b[38;5;241m*\u001b[39margs, \u001b[38;5;241m*\u001b[39m\u001b[38;5;241m*\u001b[39mkwargs)\n",
      "File \u001b[0;32m~/github/kv/.venv/lib/python3.11/site-packages/azure/cosmos/aio/_retry_utility_async.py:148\u001b[0m, in \u001b[0;36mExecuteFunctionAsync\u001b[0;34m(function, *args, **kwargs)\u001b[0m\n\u001b[1;32m    141\u001b[0m \u001b[38;5;28;01masync\u001b[39;00m \u001b[38;5;28;01mdef\u001b[39;00m \u001b[38;5;21mExecuteFunctionAsync\u001b[39m(function, \u001b[38;5;241m*\u001b[39margs, \u001b[38;5;241m*\u001b[39m\u001b[38;5;241m*\u001b[39mkwargs):\n\u001b[1;32m    142\u001b[0m \u001b[38;5;250m    \u001b[39m\u001b[38;5;124;03m\"\"\"Stub method so that it can be used for mocking purposes as well.\u001b[39;00m\n\u001b[1;32m    143\u001b[0m \u001b[38;5;124;03m    :param Callable function: the function to execute.\u001b[39;00m\n\u001b[1;32m    144\u001b[0m \u001b[38;5;124;03m    :param list args: the explicit arguments for the function.\u001b[39;00m\n\u001b[1;32m    145\u001b[0m \u001b[38;5;124;03m    :returns: the result of executing the function with the passed in arguments\u001b[39;00m\n\u001b[1;32m    146\u001b[0m \u001b[38;5;124;03m    :rtype: tuple(dict, dict)\u001b[39;00m\n\u001b[1;32m    147\u001b[0m \u001b[38;5;124;03m    \"\"\"\u001b[39;00m\n\u001b[0;32m--> 148\u001b[0m     \u001b[38;5;28;01mreturn\u001b[39;00m \u001b[38;5;28;01mawait\u001b[39;00m function(\u001b[38;5;241m*\u001b[39margs, \u001b[38;5;241m*\u001b[39m\u001b[38;5;241m*\u001b[39mkwargs)\n",
      "File \u001b[0;32m~/github/kv/.venv/lib/python3.11/site-packages/azure/cosmos/aio/_asynchronous_request.py:123\u001b[0m, in \u001b[0;36m_Request\u001b[0;34m(global_endpoint_manager, request_params, connection_policy, pipeline_client, request, **kwargs)\u001b[0m\n\u001b[1;32m    121\u001b[0m     \u001b[38;5;28;01mraise\u001b[39;00m exceptions\u001b[38;5;241m.\u001b[39mCosmosAccessConditionFailedError(message\u001b[38;5;241m=\u001b[39mdata, response\u001b[38;5;241m=\u001b[39mresponse)\n\u001b[1;32m    122\u001b[0m \u001b[38;5;28;01mif\u001b[39;00m response\u001b[38;5;241m.\u001b[39mstatus_code \u001b[38;5;241m>\u001b[39m\u001b[38;5;241m=\u001b[39m \u001b[38;5;241m400\u001b[39m:\n\u001b[0;32m--> 123\u001b[0m     \u001b[38;5;28;01mraise\u001b[39;00m exceptions\u001b[38;5;241m.\u001b[39mCosmosHttpResponseError(message\u001b[38;5;241m=\u001b[39mdata, response\u001b[38;5;241m=\u001b[39mresponse)\n\u001b[1;32m    125\u001b[0m result \u001b[38;5;241m=\u001b[39m \u001b[38;5;28;01mNone\u001b[39;00m\n\u001b[1;32m    126\u001b[0m \u001b[38;5;28;01mif\u001b[39;00m data:\n",
      "\u001b[0;31mCosmosHttpResponseError\u001b[0m: (BadRequest) Message: {\"errors\":[{\"severity\":\"Error\",\"location\":{\"start\":0,\"end\":6},\"code\":\"SC1001\",\"message\":\"Syntax error, incorrect syntax near 'UPDATE'.\"}]}\r\nActivityId: fa4a3b06-cdf3-4600-b2fb-c0ef06bc77f0, Microsoft.Azure.Documents.Common/2.14.0\nCode: BadRequest\nMessage: Message: {\"errors\":[{\"severity\":\"Error\",\"location\":{\"start\":0,\"end\":6},\"code\":\"SC1001\",\"message\":\"Syntax error, incorrect syntax near 'UPDATE'.\"}]}\r\nActivityId: fa4a3b06-cdf3-4600-b2fb-c0ef06bc77f0, Microsoft.Azure.Documents.Common/2.14.0"
     ]
    }
   ],
   "source": [
    "query = 'UPDATE items SET items.value = 2 WHERE items.id = \"1\"'\n",
    "[it async for it in cont.query_items(query)]"
   ]
  },
  {
   "cell_type": "code",
   "execution_count": 20,
   "metadata": {},
   "outputs": [
    {
     "data": {
      "text/plain": [
       "[{'id': '1',\n",
       "  'name': 'test',\n",
       "  'value': 1,\n",
       "  '_rid': 'PN9tAMvy5PIBAAAAAAAAAA==',\n",
       "  '_self': 'dbs/PN9tAA==/colls/PN9tAMvy5PI=/docs/PN9tAMvy5PIBAAAAAAAAAA==/',\n",
       "  '_etag': '\"f8048a7a-0000-0e00-0000-673a38a30000\"',\n",
       "  '_attachments': 'attachments/',\n",
       "  '_ts': 1731868835}]"
      ]
     },
     "execution_count": 20,
     "metadata": {},
     "output_type": "execute_result"
    }
   ],
   "source": [
    "[it async for it in cont.read_all_items()]"
   ]
  },
  {
   "cell_type": "code",
   "execution_count": 2,
   "metadata": {},
   "outputs": [],
   "source": [
    "kv = KV.of('http://localhost:8000', type=bool)"
   ]
  },
  {
   "cell_type": "code",
   "execution_count": 3,
   "metadata": {},
   "outputs": [],
   "source": [
    "await kv.insert('hello', True)"
   ]
  },
  {
   "cell_type": "code",
   "execution_count": 4,
   "metadata": {},
   "outputs": [
    {
     "data": {
      "text/plain": [
       "True"
      ]
     },
     "execution_count": 4,
     "metadata": {},
     "output_type": "execute_result"
    }
   ],
   "source": [
    "await kv.read('hello')"
   ]
  }
 ],
 "metadata": {
  "kernelspec": {
   "display_name": ".venv",
   "language": "python",
   "name": "python3"
  },
  "language_info": {
   "codemirror_mode": {
    "name": "ipython",
    "version": 3
   },
   "file_extension": ".py",
   "mimetype": "text/x-python",
   "name": "python",
   "nbconvert_exporter": "python",
   "pygments_lexer": "ipython3",
   "version": "3.11.10"
  }
 },
 "nbformat": 4,
 "nbformat_minor": 2
}
