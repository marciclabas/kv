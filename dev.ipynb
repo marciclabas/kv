{
 "cells": [
  {
   "cell_type": "code",
   "execution_count": 18,
   "metadata": {},
   "outputs": [],
   "source": [
    "from typing import TypeVar, overload\n",
    "import os\n",
    "from urllib.parse import urlparse, parse_qs, unquote, quote\n",
    "from dotenv import load_dotenv\n",
    "from haskellian import either as E\n",
    "from kv import KV, CosmosPartitionKV\n",
    "import kv\n",
    "from time import time\n",
    "\n",
    "load_dotenv()\n",
    "BLOB = os.environ['BLOB_CONN_STR']\n",
    "COSMOS = os.environ['COSMOS_CONN_STR']\n",
    "\n",
    "T = TypeVar('T')"
   ]
  }
 ],
 "metadata": {
  "kernelspec": {
   "display_name": ".venv",
   "language": "python",
   "name": "python3"
  },
  "language_info": {
   "codemirror_mode": {
    "name": "ipython",
    "version": 3
   },
   "file_extension": ".py",
   "mimetype": "text/x-python",
   "name": "python",
   "nbconvert_exporter": "python",
   "pygments_lexer": "ipython3",
   "version": "3.11.9"
  }
 },
 "nbformat": 4,
 "nbformat_minor": 2
}
