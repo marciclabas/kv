{
 "cells": [
  {
   "cell_type": "code",
   "execution_count": 1,
   "metadata": {},
   "outputs": [
    {
     "data": {
      "text/plain": [
       "True"
      ]
     },
     "execution_count": 1,
     "metadata": {},
     "output_type": "execute_result"
    }
   ],
   "source": [
    "import os\n",
    "from dotenv import load_dotenv\n",
    "from kv import KV\n",
    "from kv.tests import test_str\n",
    "load_dotenv()"
   ]
  },
  {
   "cell_type": "code",
   "execution_count": 2,
   "metadata": {},
   "outputs": [],
   "source": [
    "kv = KV.of('sqlite://data.db', dict)"
   ]
  },
  {
   "cell_type": "code",
   "execution_count": 3,
   "metadata": {},
   "outputs": [
    {
     "data": {
      "text/plain": [
       "Right(value=None, tag='right')"
      ]
     },
     "execution_count": 3,
     "metadata": {},
     "output_type": "execute_result"
    }
   ],
   "source": [
    "await kv.insert('test', {'hello': 'world'})"
   ]
  },
  {
   "cell_type": "code",
   "execution_count": 3,
   "metadata": {},
   "outputs": [
    {
     "name": "stdout",
     "output_type": "stream",
     "text": [
      "\u001b[32m[INFO]\u001b[0m [TEST] Inserting items...\n",
      "\u001b[32m[INFO]\u001b[0m [TEST] Inserted items OK\n",
      "\u001b[32m[INFO]\u001b[0m [TEST] Testing point read...\n",
      "\u001b[32m[INFO]\u001b[0m [TEST] Point read OK\n",
      "\u001b[32m[INFO]\u001b[0m [TEST] Testing keys...\n",
      "\u001b[32m[INFO]\u001b[0m [TEST] Keys OK\n",
      "\u001b[32m[INFO]\u001b[0m [TEST] Testing point delete...\n",
      "\u001b[32m[INFO]\u001b[0m [TEST] Point delete OK\n",
      "\u001b[34m[DEBUG]\u001b[0m [TEST] Reinserting items...\n",
      "\u001b[32m[INFO]\u001b[0m [TEST] Testing clear...\n",
      "\u001b[32m[INFO]\u001b[0m [TEST] Clear OK\n"
     ]
    },
    {
     "data": {
      "text/plain": [
       "Right(value=None, tag='right')"
      ]
     },
     "execution_count": 3,
     "metadata": {},
     "output_type": "execute_result"
    }
   ],
   "source": [
    "await test_str(kv)"
   ]
  },
  {
   "cell_type": "code",
   "execution_count": 7,
   "metadata": {},
   "outputs": [
    {
     "data": {
      "text/plain": [
       "str"
      ]
     },
     "execution_count": 7,
     "metadata": {},
     "output_type": "execute_result"
    }
   ],
   "source": [
    "type((await kv.read('hellothere')).unsafe())"
   ]
  },
  {
   "cell_type": "code",
   "execution_count": 4,
   "metadata": {},
   "outputs": [
    {
     "data": {
      "text/plain": [
       "[Right(value=('hellothere', 'hey'), tag='right')]"
      ]
     },
     "execution_count": 4,
     "metadata": {},
     "output_type": "execute_result"
    }
   ],
   "source": [
    "await kv.items().sync()"
   ]
  }
 ],
 "metadata": {
  "kernelspec": {
   "display_name": ".venv",
   "language": "python",
   "name": "python3"
  },
  "language_info": {
   "codemirror_mode": {
    "name": "ipython",
    "version": 3
   },
   "file_extension": ".py",
   "mimetype": "text/x-python",
   "name": "python",
   "nbconvert_exporter": "python",
   "pygments_lexer": "ipython3",
   "version": "3.11.9"
  }
 },
 "nbformat": 4,
 "nbformat_minor": 2
}
