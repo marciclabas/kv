{
 "cells": [
  {
   "cell_type": "code",
   "execution_count": 1,
   "metadata": {},
   "outputs": [],
   "source": [
    "from kv import KV\n",
    "\n",
    "kv = KV.of('sql+sqlite:///dev.db?table=kv', type=str)"
   ]
  },
  {
   "cell_type": "code",
   "execution_count": 2,
   "metadata": {},
   "outputs": [],
   "source": [
    "await kv.insert('a/b/c', 'hello')\n",
    "await kv.insert('a/b/d', 'hello')\n",
    "await kv.insert('a/c/d', 'hello')\n",
    "await kv.insert('a/c/e', 'hello')\n",
    "await kv.insert('b/c/e', 'hello')\n",
    "await kv.insert('b/d/e', 'hello')"
   ]
  },
  {
   "cell_type": "code",
   "execution_count": 4,
   "metadata": {},
   "outputs": [
    {
     "data": {
      "text/plain": [
       "['a/c/d', 'a/c/e']"
      ]
     },
     "execution_count": 4,
     "metadata": {},
     "output_type": "execute_result"
    }
   ],
   "source": [
    "[k async for k in kv.prefix('a/c').keys()]"
   ]
  }
 ],
 "metadata": {
  "kernelspec": {
   "display_name": ".venv",
   "language": "python",
   "name": "python3"
  },
  "language_info": {
   "codemirror_mode": {
    "name": "ipython",
    "version": 3
   },
   "file_extension": ".py",
   "mimetype": "text/x-python",
   "name": "python",
   "nbconvert_exporter": "python",
   "pygments_lexer": "ipython3",
   "version": "3.11.10"
  }
 },
 "nbformat": 4,
 "nbformat_minor": 2
}
