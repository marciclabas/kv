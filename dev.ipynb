{
 "cells": [
  {
   "cell_type": "code",
   "execution_count": 4,
   "metadata": {},
   "outputs": [],
   "source": [
    "from dataclasses import dataclass\n",
    "from kv import KV\n",
    "from sqlmodel import create_engine, SQLModel, delete, Field, Session, select"
   ]
  },
  {
   "cell_type": "code",
   "execution_count": 2,
   "metadata": {},
   "outputs": [
    {
     "name": "stdout",
     "output_type": "stream",
     "text": [
      "2024-07-06 16:29:31,848 INFO sqlalchemy.engine.Engine BEGIN (implicit)\n",
      "2024-07-06 16:29:31,850 INFO sqlalchemy.engine.Engine PRAGMA main.table_info(\"user\")\n",
      "2024-07-06 16:29:31,851 INFO sqlalchemy.engine.Engine [raw sql] ()\n",
      "2024-07-06 16:29:31,853 INFO sqlalchemy.engine.Engine PRAGMA temp.table_info(\"user\")\n",
      "2024-07-06 16:29:31,855 INFO sqlalchemy.engine.Engine [raw sql] ()\n",
      "2024-07-06 16:29:31,858 INFO sqlalchemy.engine.Engine \n",
      "CREATE TABLE user (\n",
      "\tid INTEGER NOT NULL, \n",
      "\tname VARCHAR NOT NULL, \n",
      "\tage INTEGER NOT NULL, \n",
      "\tPRIMARY KEY (id)\n",
      ")\n",
      "\n",
      "\n",
      "2024-07-06 16:29:31,860 INFO sqlalchemy.engine.Engine [no key 0.00113s] ()\n",
      "2024-07-06 16:29:31,872 INFO sqlalchemy.engine.Engine COMMIT\n"
     ]
    }
   ],
   "source": [
    "engine = create_engine(\"sqlite:///db.sqlite\", echo=True)\n",
    "\n",
    "class User(SQLModel, table=True):\n",
    "  id: int | None = Field(default=None, primary_key=True)\n",
    "  name: str\n",
    "  age: int\n",
    "\n",
    "SQLModel.metadata.create_all(engine)"
   ]
  },
  {
   "cell_type": "code",
   "execution_count": 3,
   "metadata": {},
   "outputs": [
    {
     "name": "stdout",
     "output_type": "stream",
     "text": [
      "2024-07-06 16:29:34,491 INFO sqlalchemy.engine.Engine BEGIN (implicit)\n",
      "2024-07-06 16:29:34,496 INFO sqlalchemy.engine.Engine INSERT INTO user (name, age) VALUES (?, ?) RETURNING id\n",
      "2024-07-06 16:29:34,498 INFO sqlalchemy.engine.Engine [generated in 0.00024s (insertmanyvalues) 1/3 (ordered; batch not supported)] ('Alice', 24)\n",
      "2024-07-06 16:29:34,500 INFO sqlalchemy.engine.Engine INSERT INTO user (name, age) VALUES (?, ?) RETURNING id\n",
      "2024-07-06 16:29:34,501 INFO sqlalchemy.engine.Engine [insertmanyvalues 2/3 (ordered; batch not supported)] ('Bob', 27)\n",
      "2024-07-06 16:29:34,503 INFO sqlalchemy.engine.Engine INSERT INTO user (name, age) VALUES (?, ?) RETURNING id\n",
      "2024-07-06 16:29:34,504 INFO sqlalchemy.engine.Engine [insertmanyvalues 3/3 (ordered; batch not supported)] ('Charlie', 33)\n",
      "2024-07-06 16:29:34,507 INFO sqlalchemy.engine.Engine COMMIT\n"
     ]
    }
   ],
   "source": [
    "users = [\n",
    "  User(name=\"Alice\", age=24),\n",
    "  User(name=\"Bob\", age=27),\n",
    "  User(name=\"Charlie\", age=33),\n",
    "]\n",
    "\n",
    "with Session(engine) as session:\n",
    "  session.add_all(users)\n",
    "  session.commit()"
   ]
  },
  {
   "cell_type": "code",
   "execution_count": 6,
   "metadata": {},
   "outputs": [
    {
     "name": "stdout",
     "output_type": "stream",
     "text": [
      "2024-07-06 16:31:28,064 INFO sqlalchemy.engine.Engine BEGIN (implicit)\n",
      "2024-07-06 16:31:28,067 INFO sqlalchemy.engine.Engine DELETE FROM user\n",
      "2024-07-06 16:31:28,068 INFO sqlalchemy.engine.Engine [generated in 0.00141s] ()\n",
      "2024-07-06 16:31:28,072 INFO sqlalchemy.engine.Engine COMMIT\n"
     ]
    }
   ],
   "source": [
    "with Session(engine) as session:\n",
    "  session.execute(delete(User)) \n",
    "  session.commit()"
   ]
  },
  {
   "cell_type": "code",
   "execution_count": 4,
   "metadata": {},
   "outputs": [],
   "source": [
    "@dataclass\n",
    "class User:\n",
    "  uuid: str\n",
    "  username: str\n",
    "  age: int\n",
    "\n",
    "users = [\n",
    "  User(uuid='1', username='alice', age=30),\n",
    "  User(uuid='2', username='bob', age=25),\n",
    "  User(uuid='3', username='charlie', age=35),\n",
    "]"
   ]
  },
  {
   "cell_type": "code",
   "execution_count": 5,
   "metadata": {},
   "outputs": [],
   "source": [
    "kv = KV.of('sql+sqlite:///kv.sqlite;Table=kv', User)"
   ]
  },
  {
   "cell_type": "code",
   "execution_count": 6,
   "metadata": {},
   "outputs": [],
   "source": [
    "for user in users:\n",
    "  (await kv.insert(user.uuid, user)).unsafe()"
   ]
  }
 ],
 "metadata": {
  "kernelspec": {
   "display_name": ".venv",
   "language": "python",
   "name": "python3"
  },
  "language_info": {
   "codemirror_mode": {
    "name": "ipython",
    "version": 3
   },
   "file_extension": ".py",
   "mimetype": "text/x-python",
   "name": "python",
   "nbconvert_exporter": "python",
   "pygments_lexer": "ipython3",
   "version": "3.11.9"
  }
 },
 "nbformat": 4,
 "nbformat_minor": 2
}
